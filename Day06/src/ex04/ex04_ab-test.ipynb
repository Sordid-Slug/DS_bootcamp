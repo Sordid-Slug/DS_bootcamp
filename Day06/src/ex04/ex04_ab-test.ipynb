{
 "cells": [
  {
   "cell_type": "code",
   "execution_count": 2,
   "id": "80c55893",
   "metadata": {},
   "outputs": [],
   "source": [
    "import pandas as pd\n",
    "import sqlite3"
   ]
  },
  {
   "cell_type": "code",
   "execution_count": 3,
   "id": "bbc171a0",
   "metadata": {},
   "outputs": [],
   "source": [
    "conn = sqlite3.connect('../data/checking-logs.sqlite')"
   ]
  },
  {
   "cell_type": "code",
   "execution_count": 54,
   "id": "0ab8dac7",
   "metadata": {},
   "outputs": [
    {
     "data": {
      "text/html": [
       "<div>\n",
       "<style scoped>\n",
       "    .dataframe tbody tr th:only-of-type {\n",
       "        vertical-align: middle;\n",
       "    }\n",
       "\n",
       "    .dataframe tbody tr th {\n",
       "        vertical-align: top;\n",
       "    }\n",
       "\n",
       "    .dataframe thead th {\n",
       "        text-align: right;\n",
       "    }\n",
       "</style>\n",
       "<table border=\"1\" class=\"dataframe\">\n",
       "  <thead>\n",
       "    <tr style=\"text-align: right;\">\n",
       "      <th></th>\n",
       "      <th>time</th>\n",
       "      <th>average</th>\n",
       "    </tr>\n",
       "  </thead>\n",
       "  <tbody>\n",
       "    <tr>\n",
       "      <th>0</th>\n",
       "      <td>after</td>\n",
       "      <td>-104.6000</td>\n",
       "    </tr>\n",
       "    <tr>\n",
       "      <th>1</th>\n",
       "      <td>before</td>\n",
       "      <td>-60.5625</td>\n",
       "    </tr>\n",
       "  </tbody>\n",
       "</table>\n",
       "</div>"
      ],
      "text/plain": [
       "     time   average\n",
       "0   after -104.6000\n",
       "1  before  -60.5625"
      ]
     },
     "execution_count": 54,
     "metadata": {},
     "output_type": "execute_result"
    }
   ],
   "source": [
    "query = \"\"\"\n",
    "with test_data as (\n",
    "    select\n",
    "        t.uid,\n",
    "        cast((julianday(t.first_commit_ts) - julianday(d.deadlines, 'unixepoch'))\n",
    "            * 24 as integer) as delta,\n",
    "        case \n",
    "            when t.first_commit_ts < t.first_view_ts then 'before'\n",
    "            else 'after'\n",
    "            end as time\n",
    "    from test t\n",
    "    join deadlines d on t.labname = d.labs\n",
    "    where t.labname != 'project1'\n",
    "),\n",
    "both_time as (\n",
    "    select td.uid\n",
    "    from test_data td\n",
    "    group by uid\n",
    "    having count(distinct time) = 2\n",
    ")\n",
    "\n",
    "select\n",
    "    time,\n",
    "    avg(delta) as average\n",
    "from test_data\n",
    "where uid in both_time\n",
    "group by time\n",
    "\"\"\"\n",
    "\n",
    "test_results = pd.read_sql_query(query, conn)\n",
    "test_results"
   ]
  },
  {
   "cell_type": "code",
   "execution_count": 56,
   "id": "d19d568b",
   "metadata": {},
   "outputs": [
    {
     "data": {
      "text/html": [
       "<div>\n",
       "<style scoped>\n",
       "    .dataframe tbody tr th:only-of-type {\n",
       "        vertical-align: middle;\n",
       "    }\n",
       "\n",
       "    .dataframe tbody tr th {\n",
       "        vertical-align: top;\n",
       "    }\n",
       "\n",
       "    .dataframe thead th {\n",
       "        text-align: right;\n",
       "    }\n",
       "</style>\n",
       "<table border=\"1\" class=\"dataframe\">\n",
       "  <thead>\n",
       "    <tr style=\"text-align: right;\">\n",
       "      <th></th>\n",
       "      <th>time</th>\n",
       "      <th>average</th>\n",
       "    </tr>\n",
       "  </thead>\n",
       "  <tbody>\n",
       "    <tr>\n",
       "      <th>0</th>\n",
       "      <td>after</td>\n",
       "      <td>-117.636364</td>\n",
       "    </tr>\n",
       "    <tr>\n",
       "      <th>1</th>\n",
       "      <td>before</td>\n",
       "      <td>-99.464286</td>\n",
       "    </tr>\n",
       "  </tbody>\n",
       "</table>\n",
       "</div>"
      ],
      "text/plain": [
       "     time     average\n",
       "0   after -117.636364\n",
       "1  before  -99.464286"
      ]
     },
     "execution_count": 56,
     "metadata": {},
     "output_type": "execute_result"
    }
   ],
   "source": [
    "query = \"\"\"\n",
    "with control_data as (\n",
    "    select\n",
    "        c.uid,\n",
    "        cast((julianday(c.first_commit_ts) - julianday(d.deadlines, 'unixepoch'))\n",
    "            * 24 as integer) as delta,\n",
    "        case \n",
    "            when c.first_commit_ts < c.first_view_ts then 'before'\n",
    "            else 'after'\n",
    "            end as time\n",
    "    from control c\n",
    "    join deadlines d on c.labname = d.labs\n",
    "    where c.labname != 'project1'\n",
    "),\n",
    "both_time as (\n",
    "    select cd.uid\n",
    "    from control_data cd\n",
    "    group by uid\n",
    "    having count(distinct time) = 2\n",
    ")\n",
    "\n",
    "select\n",
    "    time,\n",
    "    avg(delta) as average\n",
    "from control_data\n",
    "where uid in both_time\n",
    "group by time\n",
    "\"\"\"\n",
    "\n",
    "test_results = pd.read_sql_query(query, conn)\n",
    "test_results"
   ]
  },
  {
   "cell_type": "code",
   "execution_count": 57,
   "id": "b43bfe82",
   "metadata": {},
   "outputs": [],
   "source": [
    "conn.close()"
   ]
  }
 ],
 "metadata": {
  "kernelspec": {
   "display_name": "Python 3",
   "language": "python",
   "name": "python3"
  },
  "language_info": {
   "codemirror_mode": {
    "name": "ipython",
    "version": 3
   },
   "file_extension": ".py",
   "mimetype": "text/x-python",
   "name": "python",
   "nbconvert_exporter": "python",
   "pygments_lexer": "ipython3",
   "version": "3.10.12"
  }
 },
 "nbformat": 4,
 "nbformat_minor": 5
}

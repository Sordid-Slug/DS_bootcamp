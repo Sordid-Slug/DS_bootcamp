{
 "cells": [
  {
   "cell_type": "markdown",
   "metadata": {},
   "source": [
    "# Day 09. Exercise 00\n",
    "# Regularization"
   ]
  },
  {
   "cell_type": "markdown",
   "metadata": {},
   "source": [
    "## 0. Imports"
   ]
  },
  {
   "cell_type": "code",
   "execution_count": 1,
   "metadata": {},
   "outputs": [],
   "source": [
    "import pandas as pd\n",
    "import numpy as np\n",
    "from sklearn.linear_model import (\n",
    "    LogisticRegression\n",
    ")\n",
    "from sklearn.svm import (\n",
    "    SVC\n",
    ")\n",
    "from sklearn.tree import (\n",
    "    DecisionTreeClassifier\n",
    ")\n",
    "from sklearn.ensemble import (\n",
    "    RandomForestClassifier\n",
    ")\n",
    "from sklearn.metrics import (\n",
    "    accuracy_score\n",
    ")\n",
    "from sklearn.model_selection import (\n",
    "    train_test_split,\n",
    "    cross_validate,\n",
    "    StratifiedKFold\n",
    ")\n",
    "import joblib"
   ]
  },
  {
   "cell_type": "markdown",
   "metadata": {},
   "source": [
    "## 1. Preprocessing"
   ]
  },
  {
   "cell_type": "markdown",
   "metadata": {},
   "source": [
    "1. Read the file `dayofweek.csv` that you used in the previous day to a dataframe.\n",
    "2. Using `train_test_split` with parameters `test_size=0.2`, `random_state=21` get `X_train`, `y_train`, `X_test`, `y_test`. Use the additional parameter `stratify`."
   ]
  },
  {
   "cell_type": "code",
   "execution_count": 2,
   "metadata": {},
   "outputs": [],
   "source": [
    "df = pd.read_csv('../data/dayofweek.csv')"
   ]
  },
  {
   "cell_type": "code",
   "execution_count": 3,
   "metadata": {},
   "outputs": [],
   "source": [
    "X = df.drop('weekday', axis=1)\n",
    "y = df['weekday']\n",
    "X_train, X_test, y_train, y_test = train_test_split(\n",
    "    X,\n",
    "    y,\n",
    "    test_size=0.2,\n",
    "    stratify=y\n",
    ")"
   ]
  },
  {
   "cell_type": "markdown",
   "metadata": {},
   "source": [
    "## 2. Logreg regularization"
   ]
  },
  {
   "cell_type": "markdown",
   "metadata": {},
   "source": [
    "### a. Default regularization"
   ]
  },
  {
   "cell_type": "markdown",
   "metadata": {},
   "source": [
    "1. Train a baseline model with the only parameters `random_state=21`, `fit_intercept=False`.\n",
    "2. Use stratified K-fold cross-validation with `10` splits to evaluate the accuracy of the model\n",
    "\n",
    "\n",
    "The result of the code where you trained and evaluated the baseline model should be exactly like this (use `%%time` to get the info about how long it took to run the cell):\n",
    "\n",
    "```\n",
    "train -  0.62902   |   valid -  0.59259\n",
    "train -  0.64633   |   valid -  0.62963\n",
    "train -  0.63479   |   valid -  0.56296\n",
    "train -  0.65622   |   valid -  0.61481\n",
    "train -  0.63397   |   valid -  0.57778\n",
    "train -  0.64056   |   valid -  0.59259\n",
    "train -  0.64138   |   valid -  0.65926\n",
    "train -  0.65952   |   valid -  0.56296\n",
    "train -  0.64333   |   valid -  0.59701\n",
    "train -  0.63674   |   valid -  0.62687\n",
    "Average accuracy on crossval is 0.60165\n",
    "Std is 0.02943\n",
    "```"
   ]
  },
  {
   "cell_type": "code",
   "execution_count": 4,
   "metadata": {},
   "outputs": [
    {
     "name": "stdout",
     "output_type": "stream",
     "text": [
      "train - 0.62819\t0.60000\n",
      "train - 0.62242\t0.62963\n",
      "train - 0.62242\t0.54074\n",
      "train - 0.63974\t0.52593\n",
      "train - 0.61748\t0.59259\n",
      "train - 0.62819\t0.65185\n",
      "train - 0.63974\t0.56296\n",
      "train - 0.63232\t0.62222\n",
      "train - 0.63015\t0.63433\n",
      "train - 0.62356\t0.63433\n",
      "Average accuracy on crossval is 0.59946\n",
      "Std is 0.04104\n"
     ]
    }
   ],
   "source": [
    "logreg = LogisticRegression(\n",
    "    random_state=21,\n",
    "    fit_intercept=False\n",
    ")\n",
    "\n",
    "kf = StratifiedKFold(\n",
    "    n_splits=10,\n",
    ")\n",
    "\n",
    "scores = cross_validate(\n",
    "    logreg,\n",
    "    X_train,\n",
    "    y_train,\n",
    "    cv=kf,\n",
    "    return_train_score=True\n",
    ")\n",
    "\n",
    "for train, test in zip(scores['train_score'], scores['test_score']):\n",
    "    print(f\"train - {train:.5f}\\t{test:.5f}\")\n",
    "print(f\"Average accuracy on crossval is {np.mean(scores['test_score']):.5f}\", f\"Std is {np.std(scores['test_score']):.5f}\", sep=\"\\n\")"
   ]
  },
  {
   "cell_type": "code",
   "execution_count": 15,
   "metadata": {},
   "outputs": [
    {
     "name": "stdout",
     "output_type": "stream",
     "text": [
      "26.7 ms ± 7.76 ms per loop (mean ± std. dev. of 7 runs, 10 loops each)\n"
     ]
    }
   ],
   "source": [
    "%%timeit\n",
    "\n",
    "logreg.fit(X_train, y_train)"
   ]
  },
  {
   "cell_type": "markdown",
   "metadata": {},
   "source": [
    "### b. Optimizing regularization parameters"
   ]
  },
  {
   "cell_type": "markdown",
   "metadata": {},
   "source": [
    "1. In the cells below try different values of penalty: `none`, `l1`, `l2` – you can change the values of solver too."
   ]
  },
  {
   "cell_type": "code",
   "execution_count": 5,
   "metadata": {},
   "outputs": [],
   "source": [
    "import warnings\n",
    "from sklearn.exceptions import ConvergenceWarning\n",
    "warnings.filterwarnings(\"ignore\", category=ConvergenceWarning)"
   ]
  },
  {
   "cell_type": "code",
   "execution_count": 6,
   "metadata": {},
   "outputs": [
    {
     "name": "stdout",
     "output_type": "stream",
     "text": [
      "train - 0.65622\t0.62963\n",
      "train - 0.66364\t0.67407\n",
      "train - 0.67848\t0.63704\n",
      "train - 0.66200\t0.57778\n",
      "train - 0.68178\t0.64444\n",
      "train - 0.65540\t0.67407\n",
      "train - 0.67519\t0.59259\n",
      "train - 0.65458\t0.64444\n",
      "train - 0.66557\t0.65672\n",
      "train - 0.65980\t0.64925\n",
      "Average accuracy on crossval is 0.63800\n",
      "Std is 0.02987\n"
     ]
    }
   ],
   "source": [
    "logreg = LogisticRegression(\n",
    "    random_state=21,\n",
    "    fit_intercept=False,\n",
    "    penalty=None,\n",
    "    solver='saga'\n",
    ")\n",
    "\n",
    "kf = StratifiedKFold(\n",
    "    n_splits=10\n",
    ")\n",
    "\n",
    "scores = cross_validate(\n",
    "    logreg,\n",
    "    X_train,\n",
    "    y_train,\n",
    "    cv=kf,\n",
    "    return_train_score=True\n",
    ")\n",
    "\n",
    "for train, test in zip(scores['train_score'], scores['test_score']):\n",
    "    print(f\"train - {train:.5f}\\t{test:.5f}\")\n",
    "print(f\"Average accuracy on crossval is {np.mean(scores['test_score']):.5f}\", f\"Std is {np.std(scores['test_score']):.5f}\", sep=\"\\n\")"
   ]
  },
  {
   "cell_type": "code",
   "execution_count": 48,
   "metadata": {},
   "outputs": [
    {
     "name": "stdout",
     "output_type": "stream",
     "text": [
      "130 ms ± 2.41 ms per loop (mean ± std. dev. of 7 runs, 10 loops each)\n"
     ]
    }
   ],
   "source": [
    "%%timeit\n",
    "\n",
    "logreg.fit(X_train, y_train)"
   ]
  },
  {
   "cell_type": "code",
   "execution_count": 7,
   "metadata": {},
   "outputs": [
    {
     "name": "stdout",
     "output_type": "stream",
     "text": [
      "train - 0.62902\t0.60000\n",
      "train - 0.62242\t0.62963\n",
      "train - 0.62325\t0.54074\n",
      "train - 0.64056\t0.52593\n",
      "train - 0.61748\t0.59259\n",
      "train - 0.62737\t0.65185\n",
      "train - 0.64056\t0.56296\n",
      "train - 0.63397\t0.62222\n",
      "train - 0.62932\t0.63433\n",
      "train - 0.62191\t0.63433\n",
      "Average accuracy on crossval is 0.59946\n",
      "Std is 0.04104\n"
     ]
    }
   ],
   "source": [
    "logreg = LogisticRegression(\n",
    "    random_state=21,\n",
    "    fit_intercept=False,\n",
    "    penalty='l2',\n",
    "    solver='saga'\n",
    ")\n",
    "\n",
    "kf = StratifiedKFold(\n",
    "    n_splits=10\n",
    ")\n",
    "\n",
    "scores = cross_validate(\n",
    "    logreg,\n",
    "    X_train,\n",
    "    y_train,\n",
    "    cv=kf,\n",
    "    return_train_score=True\n",
    ")\n",
    "\n",
    "for train, test in zip(scores['train_score'], scores['test_score']):\n",
    "    print(f\"train - {train:.5f}\\t{test:.5f}\")\n",
    "print(f\"Average accuracy on crossval is {np.mean(scores['test_score']):.5f}\", f\"Std is {np.std(scores['test_score']):.5f}\", sep=\"\\n\")"
   ]
  },
  {
   "cell_type": "code",
   "execution_count": 49,
   "metadata": {},
   "outputs": [
    {
     "name": "stdout",
     "output_type": "stream",
     "text": [
      "131 ms ± 4.35 ms per loop (mean ± std. dev. of 7 runs, 10 loops each)\n"
     ]
    }
   ],
   "source": [
    "%%timeit\n",
    "\n",
    "logreg.fit(X_train, y_train)"
   ]
  },
  {
   "cell_type": "code",
   "execution_count": 8,
   "metadata": {},
   "outputs": [
    {
     "name": "stdout",
     "output_type": "stream",
     "text": [
      "train - 0.62984\t0.59259\n",
      "train - 0.62242\t0.62963\n",
      "train - 0.62242\t0.55556\n",
      "train - 0.62984\t0.52593\n",
      "train - 0.63067\t0.61481\n",
      "train - 0.62655\t0.66667\n",
      "train - 0.63644\t0.57037\n",
      "train - 0.63479\t0.61481\n",
      "train - 0.63674\t0.63433\n",
      "train - 0.63180\t0.62687\n",
      "Average accuracy on crossval is 0.60316\n",
      "Std is 0.03995\n"
     ]
    }
   ],
   "source": [
    "logreg = LogisticRegression(\n",
    "    random_state=21,\n",
    "    fit_intercept=False,\n",
    "    penalty='l1',\n",
    "    solver='saga'\n",
    ")\n",
    "\n",
    "kf = StratifiedKFold(\n",
    "    n_splits=10\n",
    ")\n",
    "\n",
    "scores = cross_validate(\n",
    "    logreg,\n",
    "    X_train,\n",
    "    y_train,\n",
    "    cv=kf,\n",
    "    return_train_score=True\n",
    ")\n",
    "\n",
    "for train, test in zip(scores['train_score'], scores['test_score']):\n",
    "    print(f\"train - {train:.5f}\\t{test:.5f}\")\n",
    "print(f\"Average accuracy on crossval is {np.mean(scores['test_score']):.5f}\", f\"Std is {np.std(scores['test_score']):.5f}\", sep=\"\\n\")"
   ]
  },
  {
   "cell_type": "code",
   "execution_count": 50,
   "metadata": {},
   "outputs": [
    {
     "name": "stdout",
     "output_type": "stream",
     "text": [
      "139 ms ± 7.38 ms per loop (mean ± std. dev. of 7 runs, 10 loops each)\n"
     ]
    }
   ],
   "source": [
    "%%timeit\n",
    "\n",
    "logreg.fit(X_train, y_train)"
   ]
  },
  {
   "cell_type": "markdown",
   "metadata": {},
   "source": [
    "## 3. SVM regularization"
   ]
  },
  {
   "cell_type": "markdown",
   "metadata": {},
   "source": [
    "### a. Default regularization"
   ]
  },
  {
   "cell_type": "markdown",
   "metadata": {},
   "source": [
    "1. Train a baseline model with the only parameters `probability=True`, `kernel='linear'`, `random_state=21`.\n",
    "2. Use stratified K-fold cross-validation with `10` splits to evaluate the accuracy of the model.\n",
    "3. The format of the result of the code where you trained and evaluated the baseline model should be similar to what you have got for the logreg."
   ]
  },
  {
   "cell_type": "code",
   "execution_count": 57,
   "metadata": {},
   "outputs": [
    {
     "name": "stdout",
     "output_type": "stream",
     "text": [
      "train - 0.69744\t0.65185\n",
      "train - 0.70074\t0.66667\n",
      "train - 0.69909\t0.62963\n",
      "train - 0.69497\t0.64444\n",
      "train - 0.68096\t0.68148\n",
      "train - 0.69662\t0.60741\n",
      "train - 0.67189\t0.68889\n",
      "train - 0.70239\t0.62222\n",
      "train - 0.68699\t0.69403\n",
      "train - 0.70840\t0.61194\n",
      "Average accuracy on crossval is 0.64986\n",
      "Std is 0.03034\n"
     ]
    }
   ],
   "source": [
    "svc = SVC(\n",
    "    random_state=21,\n",
    "    kernel='linear',\n",
    "    probability=True\n",
    ")\n",
    "\n",
    "kf = StratifiedKFold(\n",
    "    n_splits=10\n",
    ")\n",
    "\n",
    "scores = cross_validate(\n",
    "    svc,\n",
    "    X_train,\n",
    "    y_train,\n",
    "    cv=kf,\n",
    "    return_train_score=True\n",
    ")\n",
    "\n",
    "for train, test in zip(scores['train_score'], scores['test_score']):\n",
    "    print(f\"train - {train:.5f}\\t{test:.5f}\")\n",
    "print(f\"Average accuracy on crossval is {np.mean(scores['test_score']):.5f}\", f\"Std is {np.std(scores['test_score']):.5f}\", sep=\"\\n\")"
   ]
  },
  {
   "cell_type": "code",
   "execution_count": 55,
   "metadata": {},
   "outputs": [
    {
     "name": "stdout",
     "output_type": "stream",
     "text": [
      "56.6 ms ± 2.52 ms per loop (mean ± std. dev. of 7 runs, 10 loops each)\n"
     ]
    }
   ],
   "source": [
    "%%timeit\n",
    "\n",
    "svc.fit(X_train, y_train)"
   ]
  },
  {
   "cell_type": "markdown",
   "metadata": {},
   "source": [
    "### b. Optimizing regularization parameters"
   ]
  },
  {
   "cell_type": "markdown",
   "metadata": {},
   "source": [
    "1. In the cells below try different values of the parameter `C`."
   ]
  },
  {
   "cell_type": "code",
   "execution_count": 63,
   "metadata": {},
   "outputs": [
    {
     "name": "stdout",
     "output_type": "stream",
     "text": [
      "train - 0.56307\t0.54815\n",
      "train - 0.56966\t0.57037\n",
      "train - 0.56472\t0.51852\n",
      "train - 0.56472\t0.51111\n",
      "train - 0.57296\t0.56296\n",
      "train - 0.56966\t0.51111\n",
      "train - 0.55894\t0.55556\n",
      "train - 0.56884\t0.54074\n",
      "train - 0.57249\t0.55970\n",
      "train - 0.56013\t0.58955\n",
      "Average accuracy on crossval is 0.54678\n",
      "Std is 0.02505\n"
     ]
    }
   ],
   "source": [
    "svc = SVC(\n",
    "    random_state=21,\n",
    "    C=0.1\n",
    ")\n",
    "\n",
    "kf = StratifiedKFold(\n",
    "    n_splits=10\n",
    ")\n",
    "\n",
    "scores = cross_validate(\n",
    "    svc,\n",
    "    X_train,\n",
    "    y_train,\n",
    "    cv=kf,\n",
    "    return_train_score=True\n",
    ")\n",
    "\n",
    "for train, test in zip(scores['train_score'], scores['test_score']):\n",
    "    print(f\"train - {train:.5f}\\t{test:.5f}\")\n",
    "print(f\"Average accuracy on crossval is {np.mean(scores['test_score']):.5f}\", f\"Std is {np.std(scores['test_score']):.5f}\", sep=\"\\n\")"
   ]
  },
  {
   "cell_type": "code",
   "execution_count": 64,
   "metadata": {},
   "outputs": [
    {
     "name": "stdout",
     "output_type": "stream",
     "text": [
      "82.3 ms ± 2.75 ms per loop (mean ± std. dev. of 7 runs, 10 loops each)\n"
     ]
    }
   ],
   "source": [
    "%%timeit\n",
    "\n",
    "svc.fit(X_train, y_train)"
   ]
  },
  {
   "cell_type": "code",
   "execution_count": 67,
   "metadata": {},
   "outputs": [
    {
     "name": "stdout",
     "output_type": "stream",
     "text": [
      "train - 0.79143\t0.77778\n",
      "train - 0.78978\t0.72593\n",
      "train - 0.79390\t0.70370\n",
      "train - 0.79060\t0.74815\n",
      "train - 0.79308\t0.79259\n",
      "train - 0.78895\t0.75556\n",
      "train - 0.80462\t0.79259\n",
      "train - 0.77824\t0.71111\n",
      "train - 0.79077\t0.79851\n",
      "train - 0.78254\t0.69403\n",
      "Average accuracy on crossval is 0.74999\n",
      "Std is 0.03762\n"
     ]
    }
   ],
   "source": [
    "svc = SVC(\n",
    "    random_state=21,\n",
    "    C=0.5\n",
    ")\n",
    "\n",
    "kf = StratifiedKFold(\n",
    "    n_splits=10\n",
    ")\n",
    "\n",
    "scores = cross_validate(\n",
    "    svc,\n",
    "    X_train,\n",
    "    y_train,\n",
    "    cv=kf,\n",
    "    return_train_score=True\n",
    ")\n",
    "\n",
    "for train, test in zip(scores['train_score'], scores['test_score']):\n",
    "    print(f\"train - {train:.5f}\\t{test:.5f}\")\n",
    "print(f\"Average accuracy on crossval is {np.mean(scores['test_score']):.5f}\", f\"Std is {np.std(scores['test_score']):.5f}\", sep=\"\\n\")"
   ]
  },
  {
   "cell_type": "code",
   "execution_count": 68,
   "metadata": {},
   "outputs": [
    {
     "name": "stdout",
     "output_type": "stream",
     "text": [
      "62 ms ± 1.9 ms per loop (mean ± std. dev. of 7 runs, 10 loops each)\n"
     ]
    }
   ],
   "source": [
    "%%timeit\n",
    "\n",
    "svc.fit(X_train, y_train)"
   ]
  },
  {
   "cell_type": "code",
   "execution_count": 69,
   "metadata": {},
   "outputs": [
    {
     "name": "stdout",
     "output_type": "stream",
     "text": [
      "train - 0.84666\t0.81481\n",
      "train - 0.83924\t0.74815\n",
      "train - 0.85655\t0.75556\n",
      "train - 0.85243\t0.80000\n",
      "train - 0.84254\t0.81481\n",
      "train - 0.83677\t0.82963\n",
      "train - 0.83347\t0.80000\n",
      "train - 0.84666\t0.74815\n",
      "train - 0.84926\t0.85075\n",
      "train - 0.85091\t0.76866\n",
      "Average accuracy on crossval is 0.79305\n",
      "Std is 0.03427\n"
     ]
    }
   ],
   "source": [
    "svc = SVC(\n",
    "    random_state=21,\n",
    "    C=1\n",
    ")\n",
    "\n",
    "kf = StratifiedKFold(\n",
    "    n_splits=10\n",
    ")\n",
    "\n",
    "scores = cross_validate(\n",
    "    svc,\n",
    "    X_train,\n",
    "    y_train,\n",
    "    cv=kf,\n",
    "    return_train_score=True\n",
    ")\n",
    "\n",
    "for train, test in zip(scores['train_score'], scores['test_score']):\n",
    "    print(f\"train - {train:.5f}\\t{test:.5f}\")\n",
    "print(f\"Average accuracy on crossval is {np.mean(scores['test_score']):.5f}\", f\"Std is {np.std(scores['test_score']):.5f}\", sep=\"\\n\")"
   ]
  },
  {
   "cell_type": "code",
   "execution_count": 70,
   "metadata": {},
   "outputs": [
    {
     "name": "stdout",
     "output_type": "stream",
     "text": [
      "52.9 ms ± 1.23 ms per loop (mean ± std. dev. of 7 runs, 10 loops each)\n"
     ]
    }
   ],
   "source": [
    "%%timeit\n",
    "\n",
    "svc.fit(X_train, y_train)"
   ]
  },
  {
   "cell_type": "code",
   "execution_count": 71,
   "metadata": {},
   "outputs": [
    {
     "name": "stdout",
     "output_type": "stream",
     "text": [
      "train - 0.99093\t0.90370\n",
      "train - 0.99093\t0.91111\n",
      "train - 0.99011\t0.91852\n",
      "train - 0.98928\t0.93333\n",
      "train - 0.99011\t0.94074\n",
      "train - 0.99176\t0.94074\n",
      "train - 0.99093\t0.88148\n",
      "train - 0.99093\t0.91852\n",
      "train - 0.98929\t0.91791\n",
      "train - 0.98929\t0.90299\n",
      "Average accuracy on crossval is 0.91690\n",
      "Std is 0.01752\n"
     ]
    }
   ],
   "source": [
    "svc = SVC(\n",
    "    random_state=21,\n",
    "    C=100\n",
    ")\n",
    "\n",
    "kf = StratifiedKFold(\n",
    "    n_splits=10\n",
    ")\n",
    "\n",
    "scores = cross_validate(\n",
    "    svc,\n",
    "    X_train,\n",
    "    y_train,\n",
    "    cv=kf,\n",
    "    return_train_score=True\n",
    ")\n",
    "\n",
    "for train, test in zip(scores['train_score'], scores['test_score']):\n",
    "    print(f\"train - {train:.5f}\\t{test:.5f}\")\n",
    "print(f\"Average accuracy on crossval is {np.mean(scores['test_score']):.5f}\", f\"Std is {np.std(scores['test_score']):.5f}\", sep=\"\\n\")"
   ]
  },
  {
   "cell_type": "code",
   "execution_count": 72,
   "metadata": {},
   "outputs": [
    {
     "name": "stdout",
     "output_type": "stream",
     "text": [
      "40 ms ± 1.2 ms per loop (mean ± std. dev. of 7 runs, 10 loops each)\n"
     ]
    }
   ],
   "source": [
    "%%timeit\n",
    "\n",
    "svc.fit(X_train, y_train)"
   ]
  },
  {
   "cell_type": "markdown",
   "metadata": {},
   "source": [
    "## 4. Tree"
   ]
  },
  {
   "cell_type": "markdown",
   "metadata": {},
   "source": [
    "### a. Default regularization"
   ]
  },
  {
   "cell_type": "markdown",
   "metadata": {},
   "source": [
    "1. Train a baseline model with the only parameter `max_depth=10` and `random_state=21`.\n",
    "2. Use stratified K-fold cross-validation with `10` splits to evaluate the accuracy of the model.\n",
    "3. The format of the result of the code where you trained and evaluated the baseline model should be similar to what you have got for the logreg."
   ]
  },
  {
   "cell_type": "code",
   "execution_count": 88,
   "metadata": {},
   "outputs": [
    {
     "name": "stdout",
     "output_type": "stream",
     "text": [
      "train - 0.82358\t0.70370\n",
      "train - 0.83759\t0.79259\n",
      "train - 0.81698\t0.75556\n",
      "train - 0.82605\t0.70370\n",
      "train - 0.81946\t0.77778\n",
      "train - 0.83512\t0.76296\n",
      "train - 0.84419\t0.77037\n",
      "train - 0.83347\t0.68889\n",
      "train - 0.81384\t0.79851\n",
      "train - 0.86656\t0.73134\n",
      "Average accuracy on crossval is 0.74854\n",
      "Std is 0.03728\n"
     ]
    }
   ],
   "source": [
    "tree = DecisionTreeClassifier(\n",
    "    random_state=21,\n",
    "    max_depth=10\n",
    ")\n",
    "\n",
    "kf = StratifiedKFold(\n",
    "    n_splits=10\n",
    ")\n",
    "\n",
    "scores = cross_validate(\n",
    "    tree,\n",
    "    X_train,\n",
    "    y_train,\n",
    "    cv=kf,\n",
    "    return_train_score=True\n",
    ")\n",
    "\n",
    "for train, test in zip(scores['train_score'], scores['test_score']):\n",
    "    print(f\"train - {train:.5f}\\t{test:.5f}\")\n",
    "print(f\"Average accuracy on crossval is {np.mean(scores['test_score']):.5f}\", f\"Std is {np.std(scores['test_score']):.5f}\", sep=\"\\n\")"
   ]
  },
  {
   "cell_type": "code",
   "execution_count": 89,
   "metadata": {},
   "outputs": [
    {
     "name": "stdout",
     "output_type": "stream",
     "text": [
      "3.92 ms ± 178 μs per loop (mean ± std. dev. of 7 runs, 100 loops each)\n"
     ]
    }
   ],
   "source": [
    "%%timeit\n",
    "\n",
    "tree.fit(X_train, y_train)"
   ]
  },
  {
   "cell_type": "markdown",
   "metadata": {},
   "source": [
    "### b. Optimizing regularization parameters"
   ]
  },
  {
   "cell_type": "markdown",
   "metadata": {},
   "source": [
    "1. In the cells below try different values of the parameter `max_depth`.\n",
    "2. As a bonus, play with other regularization parameters trying to find the best combination."
   ]
  },
  {
   "cell_type": "code",
   "execution_count": 86,
   "metadata": {},
   "outputs": [
    {
     "name": "stdout",
     "output_type": "stream",
     "text": [
      "train - 1.00000\t0.90370\n",
      "train - 1.00000\t0.91852\n",
      "train - 1.00000\t0.88889\n",
      "train - 1.00000\t0.91111\n",
      "train - 1.00000\t0.91852\n",
      "train - 1.00000\t0.94074\n",
      "train - 1.00000\t0.82222\n",
      "train - 1.00000\t0.84444\n",
      "train - 1.00000\t0.92537\n",
      "train - 1.00000\t0.85075\n",
      "Average accuracy on crossval is 0.89243\n",
      "Std is 0.03773\n"
     ]
    }
   ],
   "source": [
    "tree = DecisionTreeClassifier(\n",
    "    random_state=21,\n",
    "    max_depth=100\n",
    ")\n",
    "\n",
    "kf = StratifiedKFold(\n",
    "    n_splits=10\n",
    ")\n",
    "\n",
    "scores = cross_validate(\n",
    "    tree,\n",
    "    X_train,\n",
    "    y_train,\n",
    "    cv=kf,\n",
    "    return_train_score=True\n",
    ")\n",
    "\n",
    "for train, test in zip(scores['train_score'], scores['test_score']):\n",
    "    print(f\"train - {train:.5f}\\t{test:.5f}\")\n",
    "print(f\"Average accuracy on crossval is {np.mean(scores['test_score']):.5f}\", f\"Std is {np.std(scores['test_score']):.5f}\", sep=\"\\n\")"
   ]
  },
  {
   "cell_type": "code",
   "execution_count": 81,
   "metadata": {},
   "outputs": [
    {
     "name": "stdout",
     "output_type": "stream",
     "text": [
      "4.66 ms ± 168 μs per loop (mean ± std. dev. of 7 runs, 100 loops each)\n"
     ]
    }
   ],
   "source": [
    "%%timeit\n",
    "\n",
    "tree.fit(X_train, y_train)"
   ]
  },
  {
   "cell_type": "code",
   "execution_count": 90,
   "metadata": {},
   "outputs": [
    {
     "name": "stdout",
     "output_type": "stream",
     "text": [
      "train - 1.00000\t0.90370\n",
      "train - 1.00000\t0.91852\n",
      "train - 1.00000\t0.88889\n",
      "train - 1.00000\t0.91111\n",
      "train - 1.00000\t0.91852\n",
      "train - 1.00000\t0.94074\n",
      "train - 1.00000\t0.82222\n",
      "train - 1.00000\t0.84444\n",
      "train - 1.00000\t0.92537\n",
      "train - 1.00000\t0.85075\n",
      "Average accuracy on crossval is 0.89243\n",
      "Std is 0.03773\n"
     ]
    }
   ],
   "source": [
    "tree = DecisionTreeClassifier(\n",
    "    random_state=21,\n",
    "    max_depth=50\n",
    ")\n",
    "\n",
    "kf = StratifiedKFold(\n",
    "    n_splits=10\n",
    ")\n",
    "\n",
    "scores = cross_validate(\n",
    "    tree,\n",
    "    X_train,\n",
    "    y_train,\n",
    "    cv=kf,\n",
    "    return_train_score=True\n",
    ")\n",
    "\n",
    "for train, test in zip(scores['train_score'], scores['test_score']):\n",
    "    print(f\"train - {train:.5f}\\t{test:.5f}\")\n",
    "print(f\"Average accuracy on crossval is {np.mean(scores['test_score']):.5f}\", f\"Std is {np.std(scores['test_score']):.5f}\", sep=\"\\n\")"
   ]
  },
  {
   "cell_type": "code",
   "execution_count": 79,
   "metadata": {},
   "outputs": [
    {
     "name": "stdout",
     "output_type": "stream",
     "text": [
      "4.8 ms ± 261 μs per loop (mean ± std. dev. of 7 runs, 100 loops each)\n"
     ]
    }
   ],
   "source": [
    "%%timeit\n",
    "\n",
    "tree.fit(X_train, y_train)"
   ]
  },
  {
   "cell_type": "markdown",
   "metadata": {},
   "source": [
    "## 5. Random forest"
   ]
  },
  {
   "cell_type": "markdown",
   "metadata": {},
   "source": [
    "### a. Default regularization"
   ]
  },
  {
   "cell_type": "markdown",
   "metadata": {},
   "source": [
    "1. Train a baseline model with the only parameters `n_estimators=50`, `max_depth=14`, `random_state=21`.\n",
    "2. Use stratified K-fold cross-validation with `10` splits to evaluate the accuracy of the model.\n",
    "3. The format of the result of the code where you trained and evaluated the baseline model should be similar to what you have got for the logreg."
   ]
  },
  {
   "cell_type": "code",
   "execution_count": 91,
   "metadata": {},
   "outputs": [
    {
     "name": "stdout",
     "output_type": "stream",
     "text": [
      "train - 0.97279\t0.88889\n",
      "train - 0.96455\t0.86667\n",
      "train - 0.97279\t0.86667\n",
      "train - 0.95631\t0.88148\n",
      "train - 0.96867\t0.88889\n",
      "train - 0.96208\t0.92593\n",
      "train - 0.96950\t0.88148\n",
      "train - 0.97032\t0.86667\n",
      "train - 0.96046\t0.90299\n",
      "train - 0.96540\t0.84328\n",
      "Average accuracy on crossval is 0.88129\n",
      "Std is 0.02160\n"
     ]
    }
   ],
   "source": [
    "forest = RandomForestClassifier(\n",
    "    n_estimators=50,\n",
    "    max_depth=14,\n",
    "    random_state=21\n",
    ")\n",
    "\n",
    "kf = StratifiedKFold(\n",
    "    n_splits=10\n",
    ")\n",
    "\n",
    "scores = cross_validate(\n",
    "    forest,\n",
    "    X_train,\n",
    "    y_train,\n",
    "    cv=kf,\n",
    "    return_train_score=True\n",
    ")\n",
    "\n",
    "for train, test in zip(scores['train_score'], scores['test_score']):\n",
    "    print(f\"train - {train:.5f}\\t{test:.5f}\")\n",
    "print(f\"Average accuracy on crossval is {np.mean(scores['test_score']):.5f}\", f\"Std is {np.std(scores['test_score']):.5f}\", sep=\"\\n\")"
   ]
  },
  {
   "cell_type": "code",
   "execution_count": 83,
   "metadata": {},
   "outputs": [
    {
     "name": "stdout",
     "output_type": "stream",
     "text": [
      "87.7 ms ± 6.18 ms per loop (mean ± std. dev. of 7 runs, 10 loops each)\n"
     ]
    }
   ],
   "source": [
    "%%timeit\n",
    "\n",
    "forest.fit(X_train, y_train)"
   ]
  },
  {
   "cell_type": "markdown",
   "metadata": {},
   "source": [
    "### b. Optimizing regularization parameters"
   ]
  },
  {
   "cell_type": "markdown",
   "metadata": {},
   "source": [
    "1. In the new cells try different values of the parameters `max_depth` and `n_estimators`.\n",
    "2. As a bonus, play with other regularization parameters trying to find the best combination."
   ]
  },
  {
   "cell_type": "code",
   "execution_count": 93,
   "metadata": {},
   "outputs": [
    {
     "name": "stdout",
     "output_type": "stream",
     "text": [
      "train - 1.00000\t0.91852\n",
      "train - 1.00000\t0.90370\n",
      "train - 1.00000\t0.91852\n",
      "train - 1.00000\t0.91852\n",
      "train - 1.00000\t0.96296\n",
      "train - 1.00000\t0.95556\n",
      "train - 1.00000\t0.90370\n",
      "train - 1.00000\t0.89630\n",
      "train - 1.00000\t0.94030\n",
      "train - 1.00000\t0.88806\n",
      "Average accuracy on crossval is 0.92061\n",
      "Std is 0.02374\n"
     ]
    }
   ],
   "source": [
    "forest = RandomForestClassifier(\n",
    "    n_estimators=50,\n",
    "    max_depth=30,\n",
    "    random_state=21\n",
    ")\n",
    "\n",
    "kf = StratifiedKFold(\n",
    "    n_splits=10\n",
    ")\n",
    "\n",
    "scores = cross_validate(\n",
    "    forest,\n",
    "    X_train,\n",
    "    y_train,\n",
    "    cv=kf,\n",
    "    return_train_score=True\n",
    ")\n",
    "\n",
    "for train, test in zip(scores['train_score'], scores['test_score']):\n",
    "    print(f\"train - {train:.5f}\\t{test:.5f}\")\n",
    "print(f\"Average accuracy on crossval is {np.mean(scores['test_score']):.5f}\", f\"Std is {np.std(scores['test_score']):.5f}\", sep=\"\\n\")"
   ]
  },
  {
   "cell_type": "code",
   "execution_count": 95,
   "metadata": {},
   "outputs": [
    {
     "name": "stdout",
     "output_type": "stream",
     "text": [
      "train - 1.00000\t0.91852\n",
      "train - 1.00000\t0.91852\n",
      "train - 1.00000\t0.91852\n",
      "train - 1.00000\t0.91852\n",
      "train - 1.00000\t0.94815\n",
      "train - 1.00000\t0.96296\n",
      "train - 1.00000\t0.89630\n",
      "train - 1.00000\t0.91111\n",
      "train - 1.00000\t0.93284\n",
      "train - 1.00000\t0.90299\n",
      "Average accuracy on crossval is 0.92284\n",
      "Std is 0.01913\n"
     ]
    }
   ],
   "source": [
    "forest = RandomForestClassifier(\n",
    "    n_estimators=85,\n",
    "    max_depth=100,\n",
    "    random_state=21\n",
    ")\n",
    "\n",
    "kf = StratifiedKFold(\n",
    "    n_splits=10\n",
    ")\n",
    "\n",
    "scores = cross_validate(\n",
    "    forest,\n",
    "    X_train,\n",
    "    y_train,\n",
    "    cv=kf,\n",
    "    return_train_score=True\n",
    ")\n",
    "\n",
    "for train, test in zip(scores['train_score'], scores['test_score']):\n",
    "    print(f\"train - {train:.5f}\\t{test:.5f}\")\n",
    "print(f\"Average accuracy on crossval is {np.mean(scores['test_score']):.5f}\", f\"Std is {np.std(scores['test_score']):.5f}\", sep=\"\\n\")"
   ]
  },
  {
   "cell_type": "markdown",
   "metadata": {},
   "source": [
    "## 6. Predictions"
   ]
  },
  {
   "cell_type": "markdown",
   "metadata": {},
   "source": [
    "1. Choose the best model and use it to make predictions for the test dataset.\n",
    "2. Calculate the final accuracy.\n",
    "3. Analyze: for which weekday your model makes the most errors (in % of the total number of samples of that class in your test dataset).\n",
    "4. Save the model."
   ]
  },
  {
   "cell_type": "code",
   "execution_count": 97,
   "metadata": {},
   "outputs": [
    {
     "data": {
      "text/plain": [
       "0.9378698224852071"
      ]
     },
     "execution_count": 97,
     "metadata": {},
     "output_type": "execute_result"
    }
   ],
   "source": [
    "forest.fit(X_train, y_train)\n",
    "\n",
    "accuracy_score(forest.predict(X_test), y_test)"
   ]
  },
  {
   "cell_type": "code",
   "execution_count": 98,
   "metadata": {},
   "outputs": [],
   "source": [
    "df['predicts'] = forest.predict(X)"
   ]
  },
  {
   "cell_type": "code",
   "execution_count": 115,
   "metadata": {},
   "outputs": [],
   "source": [
    "errors = pd.DataFrame({\n",
    "    'weekday' : df['weekday'],\n",
    "    'predicts' : df['predicts'],\n",
    "    'diff' : df['predicts'] != df['weekday']\n",
    "}).groupby('weekday').sum()"
   ]
  },
  {
   "cell_type": "code",
   "execution_count": 116,
   "metadata": {},
   "outputs": [],
   "source": [
    "errors['diff'] = errors['diff'] / errors['predicts'] * 100"
   ]
  },
  {
   "cell_type": "code",
   "execution_count": 117,
   "metadata": {},
   "outputs": [
    {
     "data": {
      "text/html": [
       "<div>\n",
       "<style scoped>\n",
       "    .dataframe tbody tr th:only-of-type {\n",
       "        vertical-align: middle;\n",
       "    }\n",
       "\n",
       "    .dataframe tbody tr th {\n",
       "        vertical-align: top;\n",
       "    }\n",
       "\n",
       "    .dataframe thead th {\n",
       "        text-align: right;\n",
       "    }\n",
       "</style>\n",
       "<table border=\"1\" class=\"dataframe\">\n",
       "  <thead>\n",
       "    <tr style=\"text-align: right;\">\n",
       "      <th></th>\n",
       "      <th>predicts</th>\n",
       "      <th>diff</th>\n",
       "    </tr>\n",
       "    <tr>\n",
       "      <th>weekday</th>\n",
       "      <th></th>\n",
       "      <th></th>\n",
       "    </tr>\n",
       "  </thead>\n",
       "  <tbody>\n",
       "    <tr>\n",
       "      <th>0</th>\n",
       "      <td>7</td>\n",
       "      <td>28.571429</td>\n",
       "    </tr>\n",
       "    <tr>\n",
       "      <th>1</th>\n",
       "      <td>278</td>\n",
       "      <td>0.359712</td>\n",
       "    </tr>\n",
       "    <tr>\n",
       "      <th>2</th>\n",
       "      <td>302</td>\n",
       "      <td>0.662252</td>\n",
       "    </tr>\n",
       "    <tr>\n",
       "      <th>3</th>\n",
       "      <td>1192</td>\n",
       "      <td>0.251678</td>\n",
       "    </tr>\n",
       "    <tr>\n",
       "      <th>4</th>\n",
       "      <td>420</td>\n",
       "      <td>0.952381</td>\n",
       "    </tr>\n",
       "    <tr>\n",
       "      <th>5</th>\n",
       "      <td>1355</td>\n",
       "      <td>0.221402</td>\n",
       "    </tr>\n",
       "    <tr>\n",
       "      <th>6</th>\n",
       "      <td>2118</td>\n",
       "      <td>0.283286</td>\n",
       "    </tr>\n",
       "  </tbody>\n",
       "</table>\n",
       "</div>"
      ],
      "text/plain": [
       "         predicts       diff\n",
       "weekday                     \n",
       "0               7  28.571429\n",
       "1             278   0.359712\n",
       "2             302   0.662252\n",
       "3            1192   0.251678\n",
       "4             420   0.952381\n",
       "5            1355   0.221402\n",
       "6            2118   0.283286"
      ]
     },
     "execution_count": 117,
     "metadata": {},
     "output_type": "execute_result"
    }
   ],
   "source": [
    "errors"
   ]
  },
  {
   "cell_type": "code",
   "execution_count": 118,
   "metadata": {},
   "outputs": [
    {
     "data": {
      "text/plain": [
       "['best_model.joblib']"
      ]
     },
     "execution_count": 118,
     "metadata": {},
     "output_type": "execute_result"
    }
   ],
   "source": [
    "joblib.dump(forest, 'best_model.joblib')"
   ]
  }
 ],
 "metadata": {
  "kernelspec": {
   "display_name": "Python 3",
   "language": "python",
   "name": "python3"
  },
  "language_info": {
   "codemirror_mode": {
    "name": "ipython",
    "version": 3
   },
   "file_extension": ".py",
   "mimetype": "text/x-python",
   "name": "python",
   "nbconvert_exporter": "python",
   "pygments_lexer": "ipython3",
   "version": "3.10.12"
  }
 },
 "nbformat": 4,
 "nbformat_minor": 4
}

{
 "cells": [
  {
   "cell_type": "code",
   "execution_count": 1,
   "metadata": {},
   "outputs": [],
   "source": [
    "from movielens_analysis import *\n",
    "import requests\n",
    "import pytest"
   ]
  },
  {
   "cell_type": "code",
   "execution_count": 2,
   "metadata": {},
   "outputs": [],
   "source": [
    "links = Links(\"ml-latest-small/links.csv\")"
   ]
  },
  {
   "cell_type": "code",
   "execution_count": 3,
   "metadata": {},
   "outputs": [
    {
     "name": "stdout",
     "output_type": "stream",
     "text": [
      "[['9', 'Peter Hyams'], ['8', 'Peter Hewitt'], ['7', 'Sydney Pollack'], ['6', 'Michael Mann'], ['5', 'Charles Shyer'], ['4', 'Forest Whitaker'], ['3', 'Howard Deutch'], ['2', 'Joe Johnston'], ['10', 'Martin Campbell'], ['1', 'John Lasseter']]\n"
     ]
    }
   ],
   "source": [
    "list_of_movies = [1, 2, 3, 4, 5, 6, 7, 8, 9, 10]\n",
    "list_of_fields = [\"movieId\", \"Director\"]\n",
    "print(Links.get_imdb(list_of_movies, list_of_fields))"
   ]
  },
  {
   "cell_type": "code",
   "execution_count": 4,
   "metadata": {},
   "outputs": [
    {
     "name": "stdout",
     "output_type": "stream",
     "text": [
      "{'John Lasseter': 1, 'Joe Johnston': 1, 'Howard Deutch': 1, 'Forest Whitaker': 1, 'Charles Shyer': 1}\n"
     ]
    }
   ],
   "source": [
    "print(links.top_directors(5))"
   ]
  },
  {
   "cell_type": "code",
   "execution_count": 5,
   "metadata": {},
   "outputs": [
    {
     "name": "stdout",
     "output_type": "stream",
     "text": [
      "{'Jumanji': 65000000, 'Heat': 60000000, 'James Bond 007: GoldenEye': 60000000, 'Sabrina': 58000000, 'Sudden Death': 35000000}\n"
     ]
    }
   ],
   "source": [
    "print(links.most_expensive(5))"
   ]
  },
  {
   "cell_type": "code",
   "execution_count": 6,
   "metadata": {},
   "outputs": [
    {
     "name": "stdout",
     "output_type": "stream",
     "text": [
      "{'Toy Story': 364436586, 'James Bond 007: GoldenEye': 292194034, 'Jumanji': 197821940, 'Heat': 127436818, 'Waiting to Exhale - Warten auf Mr. Right': 65452156}\n"
     ]
    }
   ],
   "source": [
    "print(links.most_profitable(5))"
   ]
  },
  {
   "cell_type": "code",
   "execution_count": 3,
   "metadata": {},
   "outputs": [
    {
     "name": "stdout",
     "output_type": "stream",
     "text": [
      "{'Heat': 170, 'James Bond 007: GoldenEye': 130, 'Sabrina': 127, 'Waiting to Exhale - Warten auf Mr. Right': 124, 'Sudden Death': 111}\n"
     ]
    }
   ],
   "source": [
    "print(links.longest(5))"
   ]
  },
  {
   "cell_type": "code",
   "execution_count": 4,
   "metadata": {},
   "outputs": [
    {
     "name": "stdout",
     "output_type": "stream",
     "text": [
      "{'Jumanji': 625000.0, 'James Bond 007: GoldenEye': 461538.46, 'Sabrina': 456692.91, 'Toy Story': 370370.37, 'Heat': 352941.18}\n"
     ]
    }
   ],
   "source": [
    "print(links.top_cost_per_minute(5))"
   ]
  },
  {
   "cell_type": "markdown",
   "metadata": {},
   "source": [
    "Class Tags"
   ]
  },
  {
   "cell_type": "code",
   "execution_count": null,
   "metadata": {},
   "outputs": [],
   "source": [
    "tags = Tags(\"ml-latest-small/tags.csv\")\n",
    "print(tags.most_words(6))"
   ]
  },
  {
   "cell_type": "code",
   "execution_count": null,
   "metadata": {},
   "outputs": [],
   "source": [
    "print(tags.longest(7))"
   ]
  },
  {
   "cell_type": "code",
   "execution_count": null,
   "metadata": {},
   "outputs": [],
   "source": [
    "print(tags.most_words_and_longest(8))"
   ]
  },
  {
   "cell_type": "code",
   "execution_count": null,
   "metadata": {},
   "outputs": [],
   "source": [
    "print(tags.most_popular(6))"
   ]
  },
  {
   "cell_type": "code",
   "execution_count": null,
   "metadata": {},
   "outputs": [],
   "source": [
    "print(tags.tags_with('War'))"
   ]
  },
  {
   "cell_type": "markdown",
   "metadata": {},
   "source": [
    "Class Movies"
   ]
  },
  {
   "cell_type": "code",
   "execution_count": null,
   "metadata": {},
   "outputs": [],
   "source": [
    "movies = Movies(\"ml-latest-small/movies.csv\")\n",
    "print(movies.dist_by_release())"
   ]
  },
  {
   "cell_type": "code",
   "execution_count": null,
   "metadata": {},
   "outputs": [],
   "source": [
    "print(movies.dist_by_genres())"
   ]
  },
  {
   "cell_type": "code",
   "execution_count": null,
   "metadata": {},
   "outputs": [],
   "source": [
    "print(movies.most_genres(6))"
   ]
  }
 ],
 "metadata": {
  "kernelspec": {
   "display_name": "Python 3",
   "language": "python",
   "name": "python3"
  },
  "language_info": {
   "codemirror_mode": {
    "name": "ipython",
    "version": 3
   },
   "file_extension": ".py",
   "mimetype": "text/x-python",
   "name": "python",
   "nbconvert_exporter": "python",
   "pygments_lexer": "ipython3",
   "version": "3.13.2"
  }
 },
 "nbformat": 4,
 "nbformat_minor": 4
}

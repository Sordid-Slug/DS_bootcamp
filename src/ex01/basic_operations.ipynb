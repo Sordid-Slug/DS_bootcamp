{
 "cells": [
  {
   "cell_type": "code",
   "execution_count": 1,
   "metadata": {},
   "outputs": [],
   "source": [
    "import pandas as pd"
   ]
  },
  {
   "cell_type": "markdown",
   "metadata": {},
   "source": [
    "## Create views"
   ]
  },
  {
   "cell_type": "code",
   "execution_count": 15,
   "metadata": {},
   "outputs": [],
   "source": [
    "views = pd.read_csv(\n",
    "    '../../data/feed-views.log',\n",
    "    names=['datetime', 'user'],\n",
    "    header=None,\n",
    "    sep='\\t'\n",
    ")"
   ]
  },
  {
   "cell_type": "code",
   "execution_count": 16,
   "metadata": {},
   "outputs": [],
   "source": [
    "views['datetime'] = pd.to_datetime(views['datetime'])\n",
    "\n",
    "views['year'] = views['datetime'].dt.year\n",
    "views['month'] = views['datetime'].dt.month\n",
    "views['day'] = views['datetime'].dt.day\n",
    "views['hour'] = views['datetime'].dt.hour\n",
    "views['minute'] = views['datetime'].dt.minute\n",
    "views['second'] = views['datetime'].dt.second"
   ]
  },
  {
   "cell_type": "markdown",
   "metadata": {},
   "source": [
    "## Create column daytime"
   ]
  },
  {
   "cell_type": "code",
   "execution_count": 17,
   "metadata": {},
   "outputs": [],
   "source": [
    "bins = [0, 4, 7, 11, 17, 20, 24]\n",
    "labels = ['night', 'early morning', 'morning', 'afternoon', 'early evening', 'evening']\n",
    "views['daytime'] = pd.cut(views['hour'], bins=bins, labels=labels, right=False)\n",
    "\n",
    "views.set_index('user', inplace=True)"
   ]
  },
  {
   "cell_type": "code",
   "execution_count": 18,
   "metadata": {},
   "outputs": [
    {
     "data": {
      "text/html": [
       "<div>\n",
       "<style scoped>\n",
       "    .dataframe tbody tr th:only-of-type {\n",
       "        vertical-align: middle;\n",
       "    }\n",
       "\n",
       "    .dataframe tbody tr th {\n",
       "        vertical-align: top;\n",
       "    }\n",
       "\n",
       "    .dataframe thead th {\n",
       "        text-align: right;\n",
       "    }\n",
       "</style>\n",
       "<table border=\"1\" class=\"dataframe\">\n",
       "  <thead>\n",
       "    <tr style=\"text-align: right;\">\n",
       "      <th></th>\n",
       "      <th>datetime</th>\n",
       "      <th>year</th>\n",
       "      <th>month</th>\n",
       "      <th>day</th>\n",
       "      <th>hour</th>\n",
       "      <th>minute</th>\n",
       "      <th>second</th>\n",
       "      <th>daytime</th>\n",
       "    </tr>\n",
       "    <tr>\n",
       "      <th>user</th>\n",
       "      <th></th>\n",
       "      <th></th>\n",
       "      <th></th>\n",
       "      <th></th>\n",
       "      <th></th>\n",
       "      <th></th>\n",
       "      <th></th>\n",
       "      <th></th>\n",
       "    </tr>\n",
       "  </thead>\n",
       "  <tbody>\n",
       "    <tr>\n",
       "      <th>valentina</th>\n",
       "      <td>2020-05-21 18:45:20.441142</td>\n",
       "      <td>2020</td>\n",
       "      <td>5</td>\n",
       "      <td>21</td>\n",
       "      <td>18</td>\n",
       "      <td>45</td>\n",
       "      <td>20</td>\n",
       "      <td>early evening</td>\n",
       "    </tr>\n",
       "    <tr>\n",
       "      <th>maxim</th>\n",
       "      <td>2020-05-21 23:03:06.457819</td>\n",
       "      <td>2020</td>\n",
       "      <td>5</td>\n",
       "      <td>21</td>\n",
       "      <td>23</td>\n",
       "      <td>3</td>\n",
       "      <td>6</td>\n",
       "      <td>evening</td>\n",
       "    </tr>\n",
       "    <tr>\n",
       "      <th>pavel</th>\n",
       "      <td>2020-05-21 23:23:49.995349</td>\n",
       "      <td>2020</td>\n",
       "      <td>5</td>\n",
       "      <td>21</td>\n",
       "      <td>23</td>\n",
       "      <td>23</td>\n",
       "      <td>49</td>\n",
       "      <td>evening</td>\n",
       "    </tr>\n",
       "    <tr>\n",
       "      <th>artem</th>\n",
       "      <td>2020-05-21 23:49:22.386789</td>\n",
       "      <td>2020</td>\n",
       "      <td>5</td>\n",
       "      <td>21</td>\n",
       "      <td>23</td>\n",
       "      <td>49</td>\n",
       "      <td>22</td>\n",
       "      <td>evening</td>\n",
       "    </tr>\n",
       "    <tr>\n",
       "      <th>artem</th>\n",
       "      <td>2020-05-22 10:36:14.662600</td>\n",
       "      <td>2020</td>\n",
       "      <td>5</td>\n",
       "      <td>22</td>\n",
       "      <td>10</td>\n",
       "      <td>36</td>\n",
       "      <td>14</td>\n",
       "      <td>morning</td>\n",
       "    </tr>\n",
       "  </tbody>\n",
       "</table>\n",
       "</div>"
      ],
      "text/plain": [
       "                            datetime  year  month  day  hour  minute  second  \\\n",
       "user                                                                           \n",
       "valentina 2020-05-21 18:45:20.441142  2020      5   21    18      45      20   \n",
       "maxim     2020-05-21 23:03:06.457819  2020      5   21    23       3       6   \n",
       "pavel     2020-05-21 23:23:49.995349  2020      5   21    23      23      49   \n",
       "artem     2020-05-21 23:49:22.386789  2020      5   21    23      49      22   \n",
       "artem     2020-05-22 10:36:14.662600  2020      5   22    10      36      14   \n",
       "\n",
       "                 daytime  \n",
       "user                      \n",
       "valentina  early evening  \n",
       "maxim            evening  \n",
       "pavel            evening  \n",
       "artem            evening  \n",
       "artem            morning  "
      ]
     },
     "execution_count": 18,
     "metadata": {},
     "output_type": "execute_result"
    }
   ],
   "source": [
    "views.tail()"
   ]
  },
  {
   "cell_type": "markdown",
   "metadata": {},
   "source": [
    "## Calculate the number of elements"
   ]
  },
  {
   "cell_type": "code",
   "execution_count": null,
   "metadata": {},
   "outputs": [
    {
     "name": "stdout",
     "output_type": "stream",
     "text": [
      "datetime    1076\n",
      "year        1076\n",
      "month       1076\n",
      "day         1076\n",
      "hour        1076\n",
      "minute      1076\n",
      "second      1076\n",
      "daytime     1076\n",
      "dtype: int64\n"
     ]
    }
   ],
   "source": [
    "count = views.count().iloc[0]\n",
    "\n",
    "print(count)"
   ]
  },
  {
   "cell_type": "code",
   "execution_count": 29,
   "metadata": {},
   "outputs": [
    {
     "name": "stdout",
     "output_type": "stream",
     "text": [
      "daytime\n",
      "evening          509\n",
      "afternoon        252\n",
      "early evening    145\n",
      "night            129\n",
      "morning           36\n",
      "early morning      5\n",
      "Name: count, dtype: int64\n"
     ]
    }
   ],
   "source": [
    "daytime_counts = views['daytime'].value_counts()\n",
    "\n",
    "print(daytime_counts)"
   ]
  },
  {
   "cell_type": "markdown",
   "metadata": {},
   "source": [
    "## Sort by time"
   ]
  },
  {
   "cell_type": "code",
   "execution_count": 31,
   "metadata": {},
   "outputs": [],
   "source": [
    "views.sort_values(by=['hour', 'minute', 'second'], inplace=True)"
   ]
  },
  {
   "cell_type": "code",
   "execution_count": 34,
   "metadata": {},
   "outputs": [
    {
     "data": {
      "text/html": [
       "<div>\n",
       "<style scoped>\n",
       "    .dataframe tbody tr th:only-of-type {\n",
       "        vertical-align: middle;\n",
       "    }\n",
       "\n",
       "    .dataframe tbody tr th {\n",
       "        vertical-align: top;\n",
       "    }\n",
       "\n",
       "    .dataframe thead th {\n",
       "        text-align: right;\n",
       "    }\n",
       "</style>\n",
       "<table border=\"1\" class=\"dataframe\">\n",
       "  <thead>\n",
       "    <tr style=\"text-align: right;\">\n",
       "      <th></th>\n",
       "      <th>datetime</th>\n",
       "      <th>year</th>\n",
       "      <th>month</th>\n",
       "      <th>day</th>\n",
       "      <th>hour</th>\n",
       "      <th>minute</th>\n",
       "      <th>second</th>\n",
       "      <th>daytime</th>\n",
       "    </tr>\n",
       "    <tr>\n",
       "      <th>user</th>\n",
       "      <th></th>\n",
       "      <th></th>\n",
       "      <th></th>\n",
       "      <th></th>\n",
       "      <th></th>\n",
       "      <th></th>\n",
       "      <th></th>\n",
       "      <th></th>\n",
       "    </tr>\n",
       "  </thead>\n",
       "  <tbody>\n",
       "    <tr>\n",
       "      <th>valentina</th>\n",
       "      <td>2020-05-15 00:00:13.222265</td>\n",
       "      <td>2020</td>\n",
       "      <td>5</td>\n",
       "      <td>15</td>\n",
       "      <td>0</td>\n",
       "      <td>0</td>\n",
       "      <td>13</td>\n",
       "      <td>night</td>\n",
       "    </tr>\n",
       "    <tr>\n",
       "      <th>valentina</th>\n",
       "      <td>2020-05-15 00:01:05.153738</td>\n",
       "      <td>2020</td>\n",
       "      <td>5</td>\n",
       "      <td>15</td>\n",
       "      <td>0</td>\n",
       "      <td>1</td>\n",
       "      <td>5</td>\n",
       "      <td>night</td>\n",
       "    </tr>\n",
       "    <tr>\n",
       "      <th>pavel</th>\n",
       "      <td>2020-05-12 00:01:27.764025</td>\n",
       "      <td>2020</td>\n",
       "      <td>5</td>\n",
       "      <td>12</td>\n",
       "      <td>0</td>\n",
       "      <td>1</td>\n",
       "      <td>27</td>\n",
       "      <td>night</td>\n",
       "    </tr>\n",
       "    <tr>\n",
       "      <th>pavel</th>\n",
       "      <td>2020-05-12 00:01:38.444917</td>\n",
       "      <td>2020</td>\n",
       "      <td>5</td>\n",
       "      <td>12</td>\n",
       "      <td>0</td>\n",
       "      <td>1</td>\n",
       "      <td>38</td>\n",
       "      <td>night</td>\n",
       "    </tr>\n",
       "    <tr>\n",
       "      <th>pavel</th>\n",
       "      <td>2020-05-12 00:01:55.395042</td>\n",
       "      <td>2020</td>\n",
       "      <td>5</td>\n",
       "      <td>12</td>\n",
       "      <td>0</td>\n",
       "      <td>1</td>\n",
       "      <td>55</td>\n",
       "      <td>night</td>\n",
       "    </tr>\n",
       "  </tbody>\n",
       "</table>\n",
       "</div>"
      ],
      "text/plain": [
       "                            datetime  year  month  day  hour  minute  second  \\\n",
       "user                                                                           \n",
       "valentina 2020-05-15 00:00:13.222265  2020      5   15     0       0      13   \n",
       "valentina 2020-05-15 00:01:05.153738  2020      5   15     0       1       5   \n",
       "pavel     2020-05-12 00:01:27.764025  2020      5   12     0       1      27   \n",
       "pavel     2020-05-12 00:01:38.444917  2020      5   12     0       1      38   \n",
       "pavel     2020-05-12 00:01:55.395042  2020      5   12     0       1      55   \n",
       "\n",
       "          daytime  \n",
       "user               \n",
       "valentina   night  \n",
       "valentina   night  \n",
       "pavel       night  \n",
       "pavel       night  \n",
       "pavel       night  "
      ]
     },
     "execution_count": 34,
     "metadata": {},
     "output_type": "execute_result"
    }
   ],
   "source": [
    "views.head()"
   ]
  },
  {
   "cell_type": "markdown",
   "metadata": {},
   "source": [
    "## Min, max, mode"
   ]
  },
  {
   "cell_type": "code",
   "execution_count": 42,
   "metadata": {},
   "outputs": [
    {
     "name": "stdout",
     "output_type": "stream",
     "text": [
      "0\n",
      "23\n",
      "evening\n"
     ]
    }
   ],
   "source": [
    "min_hour = views['hour'].min()\n",
    "max_hour = views['hour'].max()\n",
    "mode_hour = views['daytime'].mode()[0]\n",
    "\n",
    "print(min_hour, max_hour, mode_hour, sep='\\n')"
   ]
  },
  {
   "cell_type": "code",
   "execution_count": 59,
   "metadata": {},
   "outputs": [
    {
     "name": "stdout",
     "output_type": "stream",
     "text": [
      "3\n",
      "8\n",
      "konstantin\n"
     ]
    }
   ],
   "source": [
    "max_night_hour = views[views['daytime'] == 'night']['hour'].max()\n",
    "min_morning_hour = views[views['daytime'] == 'morning']['hour'].min()\n",
    "user_at_this_hours = views[(max_night_hour <= views['hour']) & (views['hour'] <= min_morning_hour)].index[0]\n",
    "hour_mode = views['hour'].mode()\n",
    "daytime_mode = views['daytime'].mode()\n",
    "\n",
    "print(max_night_hour, min_morning_hour, user_at_this_hours, sep='\\n')"
   ]
  },
  {
   "cell_type": "code",
   "execution_count": 61,
   "metadata": {},
   "outputs": [
    {
     "name": "stdout",
     "output_type": "stream",
     "text": [
      "22\n"
     ]
    }
   ],
   "source": [
    "print(hour_mode[0])"
   ]
  },
  {
   "cell_type": "code",
   "execution_count": 62,
   "metadata": {},
   "outputs": [
    {
     "name": "stdout",
     "output_type": "stream",
     "text": [
      "evening\n"
     ]
    }
   ],
   "source": [
    "print(daytime_mode[0])"
   ]
  },
  {
   "cell_type": "code",
   "execution_count": 72,
   "metadata": {},
   "outputs": [
    {
     "name": "stdout",
     "output_type": "stream",
     "text": [
      "           hour\n",
      "user           \n",
      "alexander     8\n",
      "alexander     8\n",
      "alexander     9\n"
     ]
    }
   ],
   "source": [
    "earliest_morning = views[views['daytime'] == 'morning'].nsmallest(3, 'hour')[['hour']]\n",
    "\n",
    "print(earliest_morning)"
   ]
  },
  {
   "cell_type": "code",
   "execution_count": null,
   "metadata": {},
   "outputs": [
    {
     "name": "stdout",
     "output_type": "stream",
     "text": [
      "           hour\n",
      "user           \n",
      "ekaterina    23\n",
      "ekaterina    23\n",
      "ekaterina    23\n"
     ]
    }
   ],
   "source": [
    "largest_hours = views.nlargest(3, 'hour')[['hour']]\n",
    "\n",
    "print(largest_hours)"
   ]
  },
  {
   "cell_type": "markdown",
   "metadata": {},
   "source": [
    "## Describe()"
   ]
  },
  {
   "cell_type": "code",
   "execution_count": null,
   "metadata": {},
   "outputs": [
    {
     "name": "stdout",
     "output_type": "stream",
     "text": [
      "22.0\n"
     ]
    }
   ],
   "source": [
    "stats = views.describe()\n",
    "\n",
    "q1 = stats.loc['25%', 'hour']\n",
    "q3 = stats.loc['75%', 'hour']\n",
    "iqr = q3 - q1\n",
    "\n",
    "print(q3)"
   ]
  }
 ],
 "metadata": {
  "kernelspec": {
   "display_name": "Python 3",
   "language": "python",
   "name": "python3"
  },
  "language_info": {
   "codemirror_mode": {
    "name": "ipython",
    "version": 3
   },
   "file_extension": ".py",
   "mimetype": "text/x-python",
   "name": "python",
   "nbconvert_exporter": "python",
   "pygments_lexer": "ipython3",
   "version": "3.10.12"
  }
 },
 "nbformat": 4,
 "nbformat_minor": 2
}
